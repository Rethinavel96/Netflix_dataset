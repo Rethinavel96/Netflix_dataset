{
 "cells": [
  {
   "cell_type": "markdown",
   "id": "51faf7d6",
   "metadata": {},
   "source": [
    "## Exploratory Data Analysis on Netflix dataset"
   ]
  },
  {
   "cell_type": "code",
   "execution_count": 30,
   "id": "6d1a813d",
   "metadata": {},
   "outputs": [],
   "source": [
    "# importing required libraries\n",
    "import numpy as np\n",
    "import pandas as pd\n",
    "import matplotlib.pyplot as plt\n",
    "import seaborn as sns"
   ]
  },
  {
   "cell_type": "code",
   "execution_count": 32,
   "id": "014ce8ec",
   "metadata": {},
   "outputs": [],
   "source": [
    "# importing dataset\n",
    "df=pd.read_csv('netflix_titles.csv')"
   ]
  },
  {
   "cell_type": "code",
   "execution_count": 33,
   "id": "4c123cf2",
   "metadata": {},
   "outputs": [
    {
     "data": {
      "text/html": [
       "<div>\n",
       "<style scoped>\n",
       "    .dataframe tbody tr th:only-of-type {\n",
       "        vertical-align: middle;\n",
       "    }\n",
       "\n",
       "    .dataframe tbody tr th {\n",
       "        vertical-align: top;\n",
       "    }\n",
       "\n",
       "    .dataframe thead th {\n",
       "        text-align: right;\n",
       "    }\n",
       "</style>\n",
       "<table border=\"1\" class=\"dataframe\">\n",
       "  <thead>\n",
       "    <tr style=\"text-align: right;\">\n",
       "      <th></th>\n",
       "      <th>show_id</th>\n",
       "      <th>type</th>\n",
       "      <th>title</th>\n",
       "      <th>director</th>\n",
       "      <th>cast</th>\n",
       "      <th>country</th>\n",
       "      <th>date_added</th>\n",
       "      <th>release_year</th>\n",
       "      <th>rating</th>\n",
       "      <th>duration</th>\n",
       "      <th>listed_in</th>\n",
       "      <th>description</th>\n",
       "    </tr>\n",
       "  </thead>\n",
       "  <tbody>\n",
       "    <tr>\n",
       "      <th>0</th>\n",
       "      <td>s1</td>\n",
       "      <td>Movie</td>\n",
       "      <td>Dick Johnson Is Dead</td>\n",
       "      <td>Kirsten Johnson</td>\n",
       "      <td>NaN</td>\n",
       "      <td>United States</td>\n",
       "      <td>25-Sep-21</td>\n",
       "      <td>2020</td>\n",
       "      <td>PG-13</td>\n",
       "      <td>90 min</td>\n",
       "      <td>Documentaries</td>\n",
       "      <td>As her father nears the end of his life, filmm...</td>\n",
       "    </tr>\n",
       "    <tr>\n",
       "      <th>1</th>\n",
       "      <td>s2</td>\n",
       "      <td>TV Show</td>\n",
       "      <td>Blood &amp; Water</td>\n",
       "      <td>NaN</td>\n",
       "      <td>Ama Qamata, Khosi Ngema, Gail Mabalane, Thaban...</td>\n",
       "      <td>South Africa</td>\n",
       "      <td>24-Sep-21</td>\n",
       "      <td>2021</td>\n",
       "      <td>TV-MA</td>\n",
       "      <td>2 Seasons</td>\n",
       "      <td>International TV Shows, TV Dramas, TV Mysteries</td>\n",
       "      <td>After crossing paths at a party, a Cape Town t...</td>\n",
       "    </tr>\n",
       "    <tr>\n",
       "      <th>2</th>\n",
       "      <td>s3</td>\n",
       "      <td>TV Show</td>\n",
       "      <td>Ganglands</td>\n",
       "      <td>Julien Leclercq</td>\n",
       "      <td>Sami Bouajila, Tracy Gotoas, Samuel Jouy, Nabi...</td>\n",
       "      <td>NaN</td>\n",
       "      <td>24-Sep-21</td>\n",
       "      <td>2021</td>\n",
       "      <td>TV-MA</td>\n",
       "      <td>1 Season</td>\n",
       "      <td>Crime TV Shows, International TV Shows, TV Act...</td>\n",
       "      <td>To protect his family from a powerful drug lor...</td>\n",
       "    </tr>\n",
       "    <tr>\n",
       "      <th>3</th>\n",
       "      <td>s4</td>\n",
       "      <td>TV Show</td>\n",
       "      <td>Jailbirds New Orleans</td>\n",
       "      <td>NaN</td>\n",
       "      <td>NaN</td>\n",
       "      <td>NaN</td>\n",
       "      <td>24-Sep-21</td>\n",
       "      <td>2021</td>\n",
       "      <td>TV-MA</td>\n",
       "      <td>1 Season</td>\n",
       "      <td>Docuseries, Reality TV</td>\n",
       "      <td>Feuds, flirtations and toilet talk go down amo...</td>\n",
       "    </tr>\n",
       "    <tr>\n",
       "      <th>4</th>\n",
       "      <td>s5</td>\n",
       "      <td>TV Show</td>\n",
       "      <td>Kota Factory</td>\n",
       "      <td>NaN</td>\n",
       "      <td>Mayur More, Jitendra Kumar, Ranjan Raj, Alam K...</td>\n",
       "      <td>India</td>\n",
       "      <td>24-Sep-21</td>\n",
       "      <td>2021</td>\n",
       "      <td>TV-MA</td>\n",
       "      <td>2 Seasons</td>\n",
       "      <td>International TV Shows, Romantic TV Shows, TV ...</td>\n",
       "      <td>In a city of coaching centers known to train I...</td>\n",
       "    </tr>\n",
       "  </tbody>\n",
       "</table>\n",
       "</div>"
      ],
      "text/plain": [
       "  show_id     type                  title         director  \\\n",
       "0      s1    Movie   Dick Johnson Is Dead  Kirsten Johnson   \n",
       "1      s2  TV Show          Blood & Water              NaN   \n",
       "2      s3  TV Show              Ganglands  Julien Leclercq   \n",
       "3      s4  TV Show  Jailbirds New Orleans              NaN   \n",
       "4      s5  TV Show           Kota Factory              NaN   \n",
       "\n",
       "                                                cast        country  \\\n",
       "0                                                NaN  United States   \n",
       "1  Ama Qamata, Khosi Ngema, Gail Mabalane, Thaban...   South Africa   \n",
       "2  Sami Bouajila, Tracy Gotoas, Samuel Jouy, Nabi...            NaN   \n",
       "3                                                NaN            NaN   \n",
       "4  Mayur More, Jitendra Kumar, Ranjan Raj, Alam K...          India   \n",
       "\n",
       "  date_added  release_year rating   duration  \\\n",
       "0  25-Sep-21          2020  PG-13     90 min   \n",
       "1  24-Sep-21          2021  TV-MA  2 Seasons   \n",
       "2  24-Sep-21          2021  TV-MA   1 Season   \n",
       "3  24-Sep-21          2021  TV-MA   1 Season   \n",
       "4  24-Sep-21          2021  TV-MA  2 Seasons   \n",
       "\n",
       "                                           listed_in  \\\n",
       "0                                      Documentaries   \n",
       "1    International TV Shows, TV Dramas, TV Mysteries   \n",
       "2  Crime TV Shows, International TV Shows, TV Act...   \n",
       "3                             Docuseries, Reality TV   \n",
       "4  International TV Shows, Romantic TV Shows, TV ...   \n",
       "\n",
       "                                         description  \n",
       "0  As her father nears the end of his life, filmm...  \n",
       "1  After crossing paths at a party, a Cape Town t...  \n",
       "2  To protect his family from a powerful drug lor...  \n",
       "3  Feuds, flirtations and toilet talk go down amo...  \n",
       "4  In a city of coaching centers known to train I...  "
      ]
     },
     "execution_count": 33,
     "metadata": {},
     "output_type": "execute_result"
    }
   ],
   "source": [
    "# dataset checking \n",
    "df.head()"
   ]
  },
  {
   "cell_type": "code",
   "execution_count": 34,
   "id": "66fa7005",
   "metadata": {},
   "outputs": [
    {
     "data": {
      "text/plain": [
       "Index(['show_id', 'type', 'title', 'director', 'cast', 'country', 'date_added',\n",
       "       'release_year', 'rating', 'duration', 'listed_in', 'description'],\n",
       "      dtype='object')"
      ]
     },
     "execution_count": 34,
     "metadata": {},
     "output_type": "execute_result"
    }
   ],
   "source": [
    "df.columns"
   ]
  },
  {
   "cell_type": "code",
   "execution_count": 35,
   "id": "c5f6c6b5",
   "metadata": {},
   "outputs": [
    {
     "data": {
      "text/plain": [
       "show_id         object\n",
       "type            object\n",
       "title           object\n",
       "director        object\n",
       "cast            object\n",
       "country         object\n",
       "date_added      object\n",
       "release_year     int64\n",
       "rating          object\n",
       "duration        object\n",
       "listed_in       object\n",
       "description     object\n",
       "dtype: object"
      ]
     },
     "execution_count": 35,
     "metadata": {},
     "output_type": "execute_result"
    }
   ],
   "source": [
    "df.dtypes"
   ]
  },
  {
   "cell_type": "code",
   "execution_count": 36,
   "id": "96607b22",
   "metadata": {},
   "outputs": [
    {
     "data": {
      "text/plain": [
       "(8807, 12)"
      ]
     },
     "execution_count": 36,
     "metadata": {},
     "output_type": "execute_result"
    }
   ],
   "source": [
    "df.shape"
   ]
  },
  {
   "cell_type": "code",
   "execution_count": 37,
   "id": "3de76e8a",
   "metadata": {},
   "outputs": [
    {
     "name": "stdout",
     "output_type": "stream",
     "text": [
      "<class 'pandas.core.frame.DataFrame'>\n",
      "RangeIndex: 8807 entries, 0 to 8806\n",
      "Data columns (total 12 columns):\n",
      " #   Column        Non-Null Count  Dtype \n",
      "---  ------        --------------  ----- \n",
      " 0   show_id       8807 non-null   object\n",
      " 1   type          8807 non-null   object\n",
      " 2   title         8807 non-null   object\n",
      " 3   director      6173 non-null   object\n",
      " 4   cast          7982 non-null   object\n",
      " 5   country       7976 non-null   object\n",
      " 6   date_added    8797 non-null   object\n",
      " 7   release_year  8807 non-null   int64 \n",
      " 8   rating        8803 non-null   object\n",
      " 9   duration      8804 non-null   object\n",
      " 10  listed_in     8807 non-null   object\n",
      " 11  description   8807 non-null   object\n",
      "dtypes: int64(1), object(11)\n",
      "memory usage: 825.8+ KB\n"
     ]
    }
   ],
   "source": [
    "df.info()"
   ]
  },
  {
   "cell_type": "code",
   "execution_count": 38,
   "id": "29b84702",
   "metadata": {},
   "outputs": [
    {
     "data": {
      "text/plain": [
       "show_id            0\n",
       "type               0\n",
       "title              0\n",
       "director        2634\n",
       "cast             825\n",
       "country          831\n",
       "date_added        10\n",
       "release_year       0\n",
       "rating             4\n",
       "duration           3\n",
       "listed_in          0\n",
       "description        0\n",
       "dtype: int64"
      ]
     },
     "execution_count": 38,
     "metadata": {},
     "output_type": "execute_result"
    }
   ],
   "source": [
    "df.isnull().sum()"
   ]
  },
  {
   "cell_type": "markdown",
   "id": "2b1f6a92",
   "metadata": {},
   "source": [
    "## Data cleaning"
   ]
  },
  {
   "cell_type": "code",
   "execution_count": 44,
   "id": "f05dbde6",
   "metadata": {},
   "outputs": [],
   "source": [
    "# several null values are there column wise can replace\n",
    "\n",
    "df['director'].fillna(value='unknown director',inplace= True)\n",
    "df['cast'].fillna(value='unknown actor',inplace=True)\n",
    "df['country'].fillna(value='unknown country',inplace=True)\n",
    "\n",
    "# for date_added column  can remove the null values because while time series analysis will give error so can fill some date data otherwise can remove\n",
    "\n",
    "df.dropna(inplace=True)"
   ]
  },
  {
   "cell_type": "code",
   "execution_count": 45,
   "id": "0df81a42",
   "metadata": {},
   "outputs": [
    {
     "data": {
      "text/html": [
       "<div>\n",
       "<style scoped>\n",
       "    .dataframe tbody tr th:only-of-type {\n",
       "        vertical-align: middle;\n",
       "    }\n",
       "\n",
       "    .dataframe tbody tr th {\n",
       "        vertical-align: top;\n",
       "    }\n",
       "\n",
       "    .dataframe thead th {\n",
       "        text-align: right;\n",
       "    }\n",
       "</style>\n",
       "<table border=\"1\" class=\"dataframe\">\n",
       "  <thead>\n",
       "    <tr style=\"text-align: right;\">\n",
       "      <th></th>\n",
       "      <th>show_id</th>\n",
       "      <th>type</th>\n",
       "      <th>title</th>\n",
       "      <th>director</th>\n",
       "      <th>cast</th>\n",
       "      <th>country</th>\n",
       "      <th>date_added</th>\n",
       "      <th>release_year</th>\n",
       "      <th>rating</th>\n",
       "      <th>duration</th>\n",
       "      <th>listed_in</th>\n",
       "      <th>description</th>\n",
       "    </tr>\n",
       "  </thead>\n",
       "  <tbody>\n",
       "    <tr>\n",
       "      <th>0</th>\n",
       "      <td>s1</td>\n",
       "      <td>Movie</td>\n",
       "      <td>Dick Johnson Is Dead</td>\n",
       "      <td>Kirsten Johnson</td>\n",
       "      <td>unknown actor</td>\n",
       "      <td>United States</td>\n",
       "      <td>25-Sep-21</td>\n",
       "      <td>2020</td>\n",
       "      <td>PG-13</td>\n",
       "      <td>90 min</td>\n",
       "      <td>Documentaries</td>\n",
       "      <td>As her father nears the end of his life, filmm...</td>\n",
       "    </tr>\n",
       "    <tr>\n",
       "      <th>1</th>\n",
       "      <td>s2</td>\n",
       "      <td>TV Show</td>\n",
       "      <td>Blood &amp; Water</td>\n",
       "      <td>unknown director</td>\n",
       "      <td>Ama Qamata, Khosi Ngema, Gail Mabalane, Thaban...</td>\n",
       "      <td>South Africa</td>\n",
       "      <td>24-Sep-21</td>\n",
       "      <td>2021</td>\n",
       "      <td>TV-MA</td>\n",
       "      <td>2 Seasons</td>\n",
       "      <td>International TV Shows, TV Dramas, TV Mysteries</td>\n",
       "      <td>After crossing paths at a party, a Cape Town t...</td>\n",
       "    </tr>\n",
       "    <tr>\n",
       "      <th>2</th>\n",
       "      <td>s3</td>\n",
       "      <td>TV Show</td>\n",
       "      <td>Ganglands</td>\n",
       "      <td>Julien Leclercq</td>\n",
       "      <td>Sami Bouajila, Tracy Gotoas, Samuel Jouy, Nabi...</td>\n",
       "      <td>unknown country</td>\n",
       "      <td>24-Sep-21</td>\n",
       "      <td>2021</td>\n",
       "      <td>TV-MA</td>\n",
       "      <td>1 Season</td>\n",
       "      <td>Crime TV Shows, International TV Shows, TV Act...</td>\n",
       "      <td>To protect his family from a powerful drug lor...</td>\n",
       "    </tr>\n",
       "  </tbody>\n",
       "</table>\n",
       "</div>"
      ],
      "text/plain": [
       "  show_id     type                 title          director  \\\n",
       "0      s1    Movie  Dick Johnson Is Dead   Kirsten Johnson   \n",
       "1      s2  TV Show         Blood & Water  unknown director   \n",
       "2      s3  TV Show             Ganglands   Julien Leclercq   \n",
       "\n",
       "                                                cast          country  \\\n",
       "0                                      unknown actor    United States   \n",
       "1  Ama Qamata, Khosi Ngema, Gail Mabalane, Thaban...     South Africa   \n",
       "2  Sami Bouajila, Tracy Gotoas, Samuel Jouy, Nabi...  unknown country   \n",
       "\n",
       "  date_added  release_year rating   duration  \\\n",
       "0  25-Sep-21          2020  PG-13     90 min   \n",
       "1  24-Sep-21          2021  TV-MA  2 Seasons   \n",
       "2  24-Sep-21          2021  TV-MA   1 Season   \n",
       "\n",
       "                                           listed_in  \\\n",
       "0                                      Documentaries   \n",
       "1    International TV Shows, TV Dramas, TV Mysteries   \n",
       "2  Crime TV Shows, International TV Shows, TV Act...   \n",
       "\n",
       "                                         description  \n",
       "0  As her father nears the end of his life, filmm...  \n",
       "1  After crossing paths at a party, a Cape Town t...  \n",
       "2  To protect his family from a powerful drug lor...  "
      ]
     },
     "execution_count": 45,
     "metadata": {},
     "output_type": "execute_result"
    }
   ],
   "source": [
    "df.head(3)"
   ]
  },
  {
   "cell_type": "code",
   "execution_count": 46,
   "id": "1b8a9ece",
   "metadata": {},
   "outputs": [
    {
     "data": {
      "text/plain": [
       "show_id         0\n",
       "type            0\n",
       "title           0\n",
       "director        0\n",
       "cast            0\n",
       "country         0\n",
       "date_added      0\n",
       "release_year    0\n",
       "rating          0\n",
       "duration        0\n",
       "listed_in       0\n",
       "description     0\n",
       "dtype: int64"
      ]
     },
     "execution_count": 46,
     "metadata": {},
     "output_type": "execute_result"
    }
   ],
   "source": [
    "df.isna().sum()"
   ]
  },
  {
   "cell_type": "code",
   "execution_count": null,
   "id": "b8ca9749",
   "metadata": {},
   "outputs": [],
   "source": [
    "# columns cast,director,country,genre are nested list so explode that list for better insights"
   ]
  },
  {
   "cell_type": "markdown",
   "id": "fa76a21d",
   "metadata": {},
   "source": [
    "## Data cleaning process"
   ]
  },
  {
   "cell_type": "code",
   "execution_count": 135,
   "id": "dcdc8cf3",
   "metadata": {},
   "outputs": [],
   "source": [
    "df_new=df.copy()"
   ]
  },
  {
   "cell_type": "code",
   "execution_count": 53,
   "id": "2bb3aa0d",
   "metadata": {},
   "outputs": [],
   "source": [
    "cast=df['cast'].apply(lambda x: str(x).split(','))\n",
    "cast=list(cast)\n"
   ]
  },
  {
   "cell_type": "code",
   "execution_count": 54,
   "id": "f38e5d54",
   "metadata": {},
   "outputs": [],
   "source": [
    "director=df['director'].apply(lambda y : str(y).split(','))\n",
    "director=list(director)"
   ]
  },
  {
   "cell_type": "code",
   "execution_count": 56,
   "id": "f53a798b",
   "metadata": {},
   "outputs": [],
   "source": [
    "country=df['country'].apply(lambda z : str(z).split(','))\n",
    "country=list(country)\n"
   ]
  },
  {
   "cell_type": "code",
   "execution_count": 57,
   "id": "8c4608c5",
   "metadata": {},
   "outputs": [],
   "source": [
    "listed_in=df['listed_in'].apply(lambda w : str(w).split(','))\n",
    "listed_in=list(listed_in)"
   ]
  },
  {
   "cell_type": "code",
   "execution_count": 66,
   "id": "daf6db4d",
   "metadata": {},
   "outputs": [],
   "source": [
    "cast1=pd.DataFrame(cast,index=df['title'])"
   ]
  },
  {
   "cell_type": "code",
   "execution_count": 67,
   "id": "60ba0830",
   "metadata": {},
   "outputs": [],
   "source": [
    "cast1=cast1.stack()"
   ]
  },
  {
   "cell_type": "code",
   "execution_count": 71,
   "id": "c20c3208",
   "metadata": {},
   "outputs": [],
   "source": [
    "cast1=cast1.reset_index()"
   ]
  },
  {
   "cell_type": "code",
   "execution_count": 72,
   "id": "b4df8af1",
   "metadata": {},
   "outputs": [
    {
     "data": {
      "text/html": [
       "<div>\n",
       "<style scoped>\n",
       "    .dataframe tbody tr th:only-of-type {\n",
       "        vertical-align: middle;\n",
       "    }\n",
       "\n",
       "    .dataframe tbody tr th {\n",
       "        vertical-align: top;\n",
       "    }\n",
       "\n",
       "    .dataframe thead th {\n",
       "        text-align: right;\n",
       "    }\n",
       "</style>\n",
       "<table border=\"1\" class=\"dataframe\">\n",
       "  <thead>\n",
       "    <tr style=\"text-align: right;\">\n",
       "      <th></th>\n",
       "      <th>title</th>\n",
       "      <th>level_1</th>\n",
       "      <th>0</th>\n",
       "    </tr>\n",
       "  </thead>\n",
       "  <tbody>\n",
       "    <tr>\n",
       "      <th>0</th>\n",
       "      <td>Dick Johnson Is Dead</td>\n",
       "      <td>0</td>\n",
       "      <td>unknown actor</td>\n",
       "    </tr>\n",
       "    <tr>\n",
       "      <th>1</th>\n",
       "      <td>Blood &amp; Water</td>\n",
       "      <td>0</td>\n",
       "      <td>Ama Qamata</td>\n",
       "    </tr>\n",
       "    <tr>\n",
       "      <th>2</th>\n",
       "      <td>Blood &amp; Water</td>\n",
       "      <td>1</td>\n",
       "      <td>Khosi Ngema</td>\n",
       "    </tr>\n",
       "    <tr>\n",
       "      <th>3</th>\n",
       "      <td>Blood &amp; Water</td>\n",
       "      <td>2</td>\n",
       "      <td>Gail Mabalane</td>\n",
       "    </tr>\n",
       "    <tr>\n",
       "      <th>4</th>\n",
       "      <td>Blood &amp; Water</td>\n",
       "      <td>3</td>\n",
       "      <td>Thabang Molaba</td>\n",
       "    </tr>\n",
       "    <tr>\n",
       "      <th>...</th>\n",
       "      <td>...</td>\n",
       "      <td>...</td>\n",
       "      <td>...</td>\n",
       "    </tr>\n",
       "    <tr>\n",
       "      <th>64836</th>\n",
       "      <td>Zubaan</td>\n",
       "      <td>3</td>\n",
       "      <td>Manish Chaudhary</td>\n",
       "    </tr>\n",
       "    <tr>\n",
       "      <th>64837</th>\n",
       "      <td>Zubaan</td>\n",
       "      <td>4</td>\n",
       "      <td>Meghna Malik</td>\n",
       "    </tr>\n",
       "    <tr>\n",
       "      <th>64838</th>\n",
       "      <td>Zubaan</td>\n",
       "      <td>5</td>\n",
       "      <td>Malkeet Rauni</td>\n",
       "    </tr>\n",
       "    <tr>\n",
       "      <th>64839</th>\n",
       "      <td>Zubaan</td>\n",
       "      <td>6</td>\n",
       "      <td>Anita Shabdish</td>\n",
       "    </tr>\n",
       "    <tr>\n",
       "      <th>64840</th>\n",
       "      <td>Zubaan</td>\n",
       "      <td>7</td>\n",
       "      <td>Chittaranjan Tripathy</td>\n",
       "    </tr>\n",
       "  </tbody>\n",
       "</table>\n",
       "<p>64841 rows × 3 columns</p>\n",
       "</div>"
      ],
      "text/plain": [
       "                      title  level_1                       0\n",
       "0      Dick Johnson Is Dead        0           unknown actor\n",
       "1             Blood & Water        0              Ama Qamata\n",
       "2             Blood & Water        1             Khosi Ngema\n",
       "3             Blood & Water        2           Gail Mabalane\n",
       "4             Blood & Water        3          Thabang Molaba\n",
       "...                     ...      ...                     ...\n",
       "64836                Zubaan        3        Manish Chaudhary\n",
       "64837                Zubaan        4            Meghna Malik\n",
       "64838                Zubaan        5           Malkeet Rauni\n",
       "64839                Zubaan        6          Anita Shabdish\n",
       "64840                Zubaan        7   Chittaranjan Tripathy\n",
       "\n",
       "[64841 rows x 3 columns]"
      ]
     },
     "execution_count": 72,
     "metadata": {},
     "output_type": "execute_result"
    }
   ],
   "source": [
    "cast1"
   ]
  },
  {
   "cell_type": "code",
   "execution_count": 76,
   "id": "d3d926ca",
   "metadata": {},
   "outputs": [],
   "source": [
    "director1=pd.DataFrame(director,index=df['title']).stack().reset_index()"
   ]
  },
  {
   "cell_type": "code",
   "execution_count": 80,
   "id": "c254ddd9",
   "metadata": {},
   "outputs": [],
   "source": [
    "country1=pd.DataFrame(country,index=df['title']).stack().reset_index()"
   ]
  },
  {
   "cell_type": "code",
   "execution_count": 84,
   "id": "40e9aab5",
   "metadata": {},
   "outputs": [],
   "source": [
    "listed_in1=pd.DataFrame(listed_in,index=df['title']).stack().reset_index()"
   ]
  },
  {
   "cell_type": "code",
   "execution_count": 139,
   "id": "ff270e55",
   "metadata": {},
   "outputs": [],
   "source": [
    "df_new['month_added']=pd.to_datetime(df['date_added']).dt.month_name()"
   ]
  },
  {
   "cell_type": "code",
   "execution_count": 140,
   "id": "51523fa1",
   "metadata": {},
   "outputs": [],
   "source": [
    "df_new['day_added']=pd.to_datetime(df['date_added']).dt.day_name()"
   ]
  },
  {
   "cell_type": "code",
   "execution_count": 141,
   "id": "7d1e1e86",
   "metadata": {},
   "outputs": [],
   "source": [
    "df_new['year_added']=pd.to_datetime(df['date_added']).dt.year"
   ]
  },
  {
   "cell_type": "code",
   "execution_count": 145,
   "id": "1c8d1f77",
   "metadata": {},
   "outputs": [],
   "source": [
    "cast_df=df_new.merge(cast1,on='title')"
   ]
  },
  {
   "cell_type": "code",
   "execution_count": 148,
   "id": "dba36f9b",
   "metadata": {},
   "outputs": [],
   "source": [
    "director_df=df_new.merge(director1,on='title')"
   ]
  },
  {
   "cell_type": "code",
   "execution_count": 150,
   "id": "7f884b46",
   "metadata": {},
   "outputs": [],
   "source": [
    "country_df=df_new.merge(country1,on='title')"
   ]
  },
  {
   "cell_type": "code",
   "execution_count": 152,
   "id": "9752badd",
   "metadata": {},
   "outputs": [],
   "source": [
    "genre_df=df_new.merge(listed_in1,on='title')"
   ]
  },
  {
   "cell_type": "code",
   "execution_count": 155,
   "id": "e59881c1",
   "metadata": {},
   "outputs": [],
   "source": [
    "cast_df.rename(columns={0:'cast_new'},inplace=True)"
   ]
  },
  {
   "cell_type": "code",
   "execution_count": 157,
   "id": "1877f699",
   "metadata": {},
   "outputs": [],
   "source": [
    "cast_df.drop(columns='level_1',inplace=True)"
   ]
  },
  {
   "cell_type": "code",
   "execution_count": 160,
   "id": "63402397",
   "metadata": {},
   "outputs": [
    {
     "data": {
      "text/plain": [
       "unknown actor             825\n",
       " Anupam Kher               39\n",
       " Rupa Bhimani              31\n",
       " Takahiro Sakurai          30\n",
       " Julie Tejwani             28\n",
       "                         ... \n",
       " Kim Ho-jung                1\n",
       " Ju Ji-hoon                 1\n",
       "Kim Hye-soo                 1\n",
       " Annie Gonzalez             1\n",
       " Chittaranjan Tripathy      1\n",
       "Name: cast_new, Length: 39249, dtype: int64"
      ]
     },
     "execution_count": 160,
     "metadata": {},
     "output_type": "execute_result"
    }
   ],
   "source": [
    "cast_df['cast_new'].value_counts()"
   ]
  },
  {
   "cell_type": "markdown",
   "id": "9730c2da",
   "metadata": {},
   "source": [
    "## Most famous actor Top 3 \n",
    " Anupam Kher     \n",
    " Rupa Bhimani              \n",
    " Takahiro Sakurai\n",
    "\n",
    "\n"
   ]
  },
  {
   "cell_type": "code",
   "execution_count": 172,
   "id": "c7bf9e18",
   "metadata": {},
   "outputs": [],
   "source": [
    "director_df.drop(columns='level_1',inplace=True)"
   ]
  },
  {
   "cell_type": "code",
   "execution_count": 175,
   "id": "a1acc8c2",
   "metadata": {},
   "outputs": [],
   "source": [
    "director_df.rename(columns={0:'director_new'},inplace=True)"
   ]
  },
  {
   "cell_type": "code",
   "execution_count": 176,
   "id": "b00b6299",
   "metadata": {},
   "outputs": [
    {
     "data": {
      "text/plain": [
       "unknown director    2623\n",
       "Rajiv Chilaka         22\n",
       " Jan Suter            18\n",
       "Raúl Campos           18\n",
       "Suhas Kadav           16\n",
       "                    ... \n",
       "Eric Bross             1\n",
       "Will Eisenberg         1\n",
       "Marina Seresesky       1\n",
       "Kenny Leon             1\n",
       "Mozez Singh            1\n",
       "Name: director_new, Length: 5119, dtype: int64"
      ]
     },
     "execution_count": 176,
     "metadata": {},
     "output_type": "execute_result"
    }
   ],
   "source": [
    "director_df['director_new'].value_counts()"
   ]
  },
  {
   "cell_type": "markdown",
   "id": "6a4bac50",
   "metadata": {},
   "source": [
    "## Most famous Directors Top 3\n",
    "1.Rajiv Chilaka  \n",
    "\n",
    " 2.Jan Suter\n",
    " \n",
    " 3.Raúl Campos"
   ]
  },
  {
   "cell_type": "code",
   "execution_count": 179,
   "id": "e1508ea9",
   "metadata": {},
   "outputs": [],
   "source": [
    "country_df.drop(columns='level_1',inplace=True)"
   ]
  },
  {
   "cell_type": "code",
   "execution_count": 181,
   "id": "dddbef2e",
   "metadata": {},
   "outputs": [],
   "source": [
    "country_df.rename(columns={0:'country_new'},inplace=True)"
   ]
  },
  {
   "cell_type": "code",
   "execution_count": 188,
   "id": "ea82f0c9",
   "metadata": {},
   "outputs": [
    {
     "data": {
      "text/plain": [
       "United States      3202\n",
       "India              1010\n",
       "unknown country     831\n",
       "United Kingdom      627\n",
       " United States      481\n",
       "                   ... \n",
       " Ecuador              1\n",
       "Iran                  1\n",
       "Cyprus                1\n",
       " Mongolia             1\n",
       " Montenegro           1\n",
       "Name: country_new, Length: 198, dtype: int64"
      ]
     },
     "execution_count": 188,
     "metadata": {},
     "output_type": "execute_result"
    }
   ],
   "source": [
    "country_df['country_new'].value_counts()"
   ]
  },
  {
   "cell_type": "markdown",
   "id": "6553dce3",
   "metadata": {},
   "source": [
    "## United States and India released more movies and Tv shows on Netflix"
   ]
  },
  {
   "cell_type": "code",
   "execution_count": 191,
   "id": "fbd6253f",
   "metadata": {},
   "outputs": [],
   "source": [
    "genre_df.drop('level_1',axis=1,inplace=True)"
   ]
  },
  {
   "cell_type": "code",
   "execution_count": 194,
   "id": "844f00ae",
   "metadata": {},
   "outputs": [],
   "source": [
    "genre_df.rename(columns={0:'genre_new'},inplace=True)"
   ]
  },
  {
   "cell_type": "code",
   "execution_count": 196,
   "id": "3c3e907b",
   "metadata": {},
   "outputs": [
    {
     "data": {
      "text/plain": [
       " International Movies        2624\n",
       "Dramas                       1601\n",
       "Comedies                     1212\n",
       "Action & Adventure            859\n",
       " Dramas                       829\n",
       "                             ... \n",
       "Romantic Movies                 3\n",
       "Spanish-Language TV Shows       2\n",
       "LGBTQ Movies                    1\n",
       "TV Sci-Fi & Fantasy             1\n",
       "Sports Movies                   1\n",
       "Name: genre_new, Length: 73, dtype: int64"
      ]
     },
     "execution_count": 196,
     "metadata": {},
     "output_type": "execute_result"
    }
   ],
   "source": [
    "genre_df['genre_new'].value_counts()"
   ]
  },
  {
   "cell_type": "markdown",
   "id": "167898c8",
   "metadata": {},
   "source": [
    "## Famous Genre are\n",
    "\n",
    "International Movies        \n",
    "Dramas                       \n",
    "Comedies                     \n",
    "Action & Adventure           \n",
    " Dramas\n",
    "\n"
   ]
  },
  {
   "cell_type": "code",
   "execution_count": 200,
   "id": "a164bf11",
   "metadata": {},
   "outputs": [
    {
     "data": {
      "text/plain": [
       "Movie      6126\n",
       "TV Show    2664\n",
       "Name: type, dtype: int64"
      ]
     },
     "execution_count": 200,
     "metadata": {},
     "output_type": "execute_result"
    }
   ],
   "source": [
    "df_new['type'].value_counts()"
   ]
  },
  {
   "cell_type": "code",
   "execution_count": 214,
   "id": "284ec6d4",
   "metadata": {},
   "outputs": [
    {
     "data": {
      "image/png": "[encoded data removed]",
      "text/plain": [
       "<Figure size 432x288 with 1 Axes>"
      ]
     },
     "metadata": {
      "needs_background": "light"
     },
     "output_type": "display_data"
    }
   ],
   "source": [
    "sns.countplot(data=df_new,x='type')\n",
    "plt.show()"
   ]
  },
  {
   "cell_type": "markdown",
   "id": "b2cc8b4b",
   "metadata": {},
   "source": [
    "## More movies only released on netflix rather than Tv shows\n",
    "\n",
    "Movie      6126\n",
    "\n",
    "TV Show    2664"
   ]
  },
  {
   "cell_type": "markdown",
   "id": "7b01b552",
   "metadata": {},
   "source": [
    "## Analysis using Timeframe"
   ]
  },
  {
   "cell_type": "code",
   "execution_count": 205,
   "id": "266e5918",
   "metadata": {},
   "outputs": [
    {
     "data": {
      "image/png": "[encoded data removed]",
      "text/plain": [
       "<Figure size 1008x360 with 1 Axes>"
      ]
     },
     "metadata": {
      "needs_background": "light"
     },
     "output_type": "display_data"
    }
   ],
   "source": [
    "plt.figure(figsize=[14,5])\n",
    "\n",
    "sns.countplot(data=df_new,x='year_added')\n",
    "plt.show()"
   ]
  },
  {
   "cell_type": "code",
   "execution_count": 206,
   "id": "c2e7cdda",
   "metadata": {},
   "outputs": [
    {
     "data": {
      "image/png": "[encoded data removed]",
      "text/plain": [
       "<Figure size 1008x360 with 1 Axes>"
      ]
     },
     "metadata": {
      "needs_background": "light"
     },
     "output_type": "display_data"
    }
   ],
   "source": [
    "plt.figure(figsize=[14,5])\n",
    "\n",
    "sns.countplot(data=df_new,x='month_added')\n",
    "plt.show()"
   ]
  },
  {
   "cell_type": "code",
   "execution_count": 207,
   "id": "4697cc60",
   "metadata": {},
   "outputs": [
    {
     "data": {
      "image/png": "[encoded data removed]",
      "text/plain": [
       "<Figure size 1008x360 with 1 Axes>"
      ]
     },
     "metadata": {
      "needs_background": "light"
     },
     "output_type": "display_data"
    }
   ],
   "source": [
    "plt.figure(figsize=[14,5])\n",
    "\n",
    "sns.countplot(data=df_new,x='day_added')\n",
    "plt.show()"
   ]
  },
  {
   "cell_type": "markdown",
   "id": "acc72122",
   "metadata": {},
   "source": [
    "## Friday Released contents are high"
   ]
  },
  {
   "cell_type": "code",
   "execution_count": 211,
   "id": "f1a03905",
   "metadata": {},
   "outputs": [
    {
     "data": {
      "image/png": "[encoded data removed]",
      "text/plain": [
       "<Figure size 1008x360 with 1 Axes>"
      ]
     },
     "metadata": {
      "needs_background": "light"
     },
     "output_type": "display_data"
    }
   ],
   "source": [
    "plt.figure(figsize=[14,5])\n",
    "\n",
    "sns.countplot(data=df_new,x='month_added',hue='type')\n",
    "plt.show()"
   ]
  },
  {
   "cell_type": "code",
   "execution_count": 212,
   "id": "13acd830",
   "metadata": {},
   "outputs": [
    {
     "data": {
      "image/png": "[encoded data removed]",
      "text/plain": [
       "<Figure size 1008x360 with 1 Axes>"
      ]
     },
     "metadata": {
      "needs_background": "light"
     },
     "output_type": "display_data"
    }
   ],
   "source": [
    "plt.figure(figsize=[14,5])\n",
    "\n",
    "sns.countplot(data=df_new,x='day_added',hue='type')\n",
    "plt.show()"
   ]
  },
  {
   "cell_type": "code",
   "execution_count": null,
   "id": "7ec702f8",
   "metadata": {},
   "outputs": [],
   "source": []
  }
 ],
 "metadata": {
  "kernelspec": {
   "display_name": "Python 3 (ipykernel)",
   "language": "python",
   "name": "python3"
  },
  "language_info": {
   "codemirror_mode": {
    "name": "ipython",
    "version": 3
   },
   "file_extension": ".py",
   "mimetype": "text/x-python",
   "name": "python",
   "nbconvert_exporter": "python",
   "pygments_lexer": "ipython3",
   "version": "3.9.12"
  }
 },
 "nbformat": 4,
 "nbformat_minor": 5
}
